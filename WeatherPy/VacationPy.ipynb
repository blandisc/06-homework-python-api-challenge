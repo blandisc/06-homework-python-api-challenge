{
 "cells": [
  {
   "cell_type": "markdown",
   "metadata": {},
   "source": [
    "# VacationPy\n",
    "----\n",
    "\n",
    "#### Note\n",
    "* Instructions have been included for each segment. You do not have to follow them exactly, but they are included to help you think through the steps."
   ]
  },
  {
   "cell_type": "code",
   "execution_count": 1,
   "metadata": {},
   "outputs": [],
   "source": [
    "# Dependencies and Setup\n",
    "import matplotlib.pyplot as plt\n",
    "import pandas as pd\n",
    "import numpy as np\n",
    "import requests\n",
    "import gmaps\n",
    "import os\n",
    "\n",
    "# Import API key\n",
    "from api_keys import g_key\n",
    "gmaps.configure(api_key= g_key)"
   ]
  },
  {
   "cell_type": "markdown",
   "metadata": {},
   "source": [
    "### Store Part I results into DataFrame\n",
    "* Load the csv exported in Part I to a DataFrame"
   ]
  },
  {
   "cell_type": "code",
   "execution_count": 2,
   "metadata": {},
   "outputs": [
    {
     "data": {
      "text/html": [
       "<div>\n",
       "<style scoped>\n",
       "    .dataframe tbody tr th:only-of-type {\n",
       "        vertical-align: middle;\n",
       "    }\n",
       "\n",
       "    .dataframe tbody tr th {\n",
       "        vertical-align: top;\n",
       "    }\n",
       "\n",
       "    .dataframe thead th {\n",
       "        text-align: right;\n",
       "    }\n",
       "</style>\n",
       "<table border=\"1\" class=\"dataframe\">\n",
       "  <thead>\n",
       "    <tr style=\"text-align: right;\">\n",
       "      <th></th>\n",
       "      <th>City</th>\n",
       "      <th>Cloudiness (%)</th>\n",
       "      <th>Country</th>\n",
       "      <th>Date</th>\n",
       "      <th>Humidity (%)</th>\n",
       "      <th>Latitude</th>\n",
       "      <th>Longitude</th>\n",
       "      <th>Max Temp (C°)</th>\n",
       "      <th>Wind Speed (kmph)</th>\n",
       "    </tr>\n",
       "  </thead>\n",
       "  <tbody>\n",
       "    <tr>\n",
       "      <th>0</th>\n",
       "      <td>Port Elizabeth</td>\n",
       "      <td>0</td>\n",
       "      <td>ZA</td>\n",
       "      <td>1588959251</td>\n",
       "      <td>93</td>\n",
       "      <td>-33.92</td>\n",
       "      <td>25.57</td>\n",
       "      <td>17.00</td>\n",
       "      <td>2.60</td>\n",
       "    </tr>\n",
       "    <tr>\n",
       "      <th>1</th>\n",
       "      <td>Olafsvik</td>\n",
       "      <td>0</td>\n",
       "      <td>IS</td>\n",
       "      <td>1588959251</td>\n",
       "      <td>66</td>\n",
       "      <td>64.89</td>\n",
       "      <td>-23.71</td>\n",
       "      <td>3.85</td>\n",
       "      <td>3.69</td>\n",
       "    </tr>\n",
       "    <tr>\n",
       "      <th>2</th>\n",
       "      <td>Hithadhoo</td>\n",
       "      <td>71</td>\n",
       "      <td>MV</td>\n",
       "      <td>1588959251</td>\n",
       "      <td>78</td>\n",
       "      <td>-0.60</td>\n",
       "      <td>73.08</td>\n",
       "      <td>29.65</td>\n",
       "      <td>6.65</td>\n",
       "    </tr>\n",
       "    <tr>\n",
       "      <th>3</th>\n",
       "      <td>East London</td>\n",
       "      <td>37</td>\n",
       "      <td>ZA</td>\n",
       "      <td>1588959228</td>\n",
       "      <td>81</td>\n",
       "      <td>-33.02</td>\n",
       "      <td>27.91</td>\n",
       "      <td>21.11</td>\n",
       "      <td>2.87</td>\n",
       "    </tr>\n",
       "    <tr>\n",
       "      <th>4</th>\n",
       "      <td>Dongsheng</td>\n",
       "      <td>100</td>\n",
       "      <td>CN</td>\n",
       "      <td>1588959252</td>\n",
       "      <td>43</td>\n",
       "      <td>39.82</td>\n",
       "      <td>109.98</td>\n",
       "      <td>10.91</td>\n",
       "      <td>5.35</td>\n",
       "    </tr>\n",
       "  </tbody>\n",
       "</table>\n",
       "</div>"
      ],
      "text/plain": [
       "             City  Cloudiness (%) Country        Date  Humidity (%)  Latitude  \\\n",
       "0  Port Elizabeth               0      ZA  1588959251            93    -33.92   \n",
       "1        Olafsvik               0      IS  1588959251            66     64.89   \n",
       "2       Hithadhoo              71      MV  1588959251            78     -0.60   \n",
       "3     East London              37      ZA  1588959228            81    -33.02   \n",
       "4       Dongsheng             100      CN  1588959252            43     39.82   \n",
       "\n",
       "   Longitude  Max Temp (C°)  Wind Speed (kmph)  \n",
       "0      25.57          17.00               2.60  \n",
       "1     -23.71           3.85               3.69  \n",
       "2      73.08          29.65               6.65  \n",
       "3      27.91          21.11               2.87  \n",
       "4     109.98          10.91               5.35  "
      ]
     },
     "execution_count": 2,
     "metadata": {},
     "output_type": "execute_result"
    }
   ],
   "source": [
    "data = pd.read_csv(\"weather_data.csv\")\n",
    "weather_data_df = pd.DataFrame(data)\n",
    "weather_data_df.head()"
   ]
  },
  {
   "cell_type": "markdown",
   "metadata": {},
   "source": [
    "### Humidity Heatmap\n",
    "* Configure gmaps.\n",
    "* Use the Lat and Lng as locations and Humidity as the weight.\n",
    "* Add Heatmap layer to map."
   ]
  },
  {
   "cell_type": "code",
   "execution_count": 3,
   "metadata": {},
   "outputs": [],
   "source": [
    "locations  = weather_data_df[[\"Latitude\",\"Longitude\"]]\n",
    "\n",
    "humidity = weather_data_df[\"Humidity (%)\"]"
   ]
  },
  {
   "cell_type": "code",
   "execution_count": 4,
   "metadata": {},
   "outputs": [
    {
     "data": {
      "application/vnd.jupyter.widget-view+json": {
       "model_id": "ffcaf04548cd46d2bf6ae948821a4ebf",
       "version_major": 2,
       "version_minor": 0
      },
      "text/plain": [
       "Figure(layout=FigureLayout(height='420px'))"
      ]
     },
     "metadata": {},
     "output_type": "display_data"
    }
   ],
   "source": [
    "fig = gmaps.figure(\n",
    "    center = (15,0), \n",
    "    zoom_level=1.5\n",
    ")\n",
    "\n",
    "heat_layer = gmaps.heatmap_layer(\n",
    "    locations,\n",
    "    weights = humidity,\n",
    "    dissipating = False,\n",
    "    point_radius=2,\n",
    "    max_intensity= float(weather_data_df[\"Humidity (%)\"].max()),\n",
    ")\n",
    "\n",
    "fig.add_layer(heat_layer)\n",
    "fig"
   ]
  },
  {
   "cell_type": "markdown",
   "metadata": {},
   "source": [
    "### Create new DataFrame fitting weather criteria\n",
    "* Narrow down the cities to fit weather conditions.\n",
    "* Drop any rows will null values."
   ]
  },
  {
   "cell_type": "code",
   "execution_count": 5,
   "metadata": {},
   "outputs": [
    {
     "data": {
      "text/html": [
       "<div>\n",
       "<style scoped>\n",
       "    .dataframe tbody tr th:only-of-type {\n",
       "        vertical-align: middle;\n",
       "    }\n",
       "\n",
       "    .dataframe tbody tr th {\n",
       "        vertical-align: top;\n",
       "    }\n",
       "\n",
       "    .dataframe thead th {\n",
       "        text-align: right;\n",
       "    }\n",
       "</style>\n",
       "<table border=\"1\" class=\"dataframe\">\n",
       "  <thead>\n",
       "    <tr style=\"text-align: right;\">\n",
       "      <th></th>\n",
       "      <th>City</th>\n",
       "      <th>Cloudiness (%)</th>\n",
       "      <th>Country</th>\n",
       "      <th>Date</th>\n",
       "      <th>Humidity (%)</th>\n",
       "      <th>Latitude</th>\n",
       "      <th>Longitude</th>\n",
       "      <th>Max Temp (C°)</th>\n",
       "      <th>Wind Speed (kmph)</th>\n",
       "      <th>Location</th>\n",
       "    </tr>\n",
       "  </thead>\n",
       "  <tbody>\n",
       "    <tr>\n",
       "      <th>174</th>\n",
       "      <td>Guerrero Negro</td>\n",
       "      <td>0</td>\n",
       "      <td>MX</td>\n",
       "      <td>1588959302</td>\n",
       "      <td>39</td>\n",
       "      <td>27.98</td>\n",
       "      <td>-114.06</td>\n",
       "      <td>25.64</td>\n",
       "      <td>2.00</td>\n",
       "      <td>27.98,-114.06</td>\n",
       "    </tr>\n",
       "    <tr>\n",
       "      <th>385</th>\n",
       "      <td>Saldanha</td>\n",
       "      <td>0</td>\n",
       "      <td>ZA</td>\n",
       "      <td>1588959363</td>\n",
       "      <td>44</td>\n",
       "      <td>-33.01</td>\n",
       "      <td>17.94</td>\n",
       "      <td>24.00</td>\n",
       "      <td>2.60</td>\n",
       "      <td>-33.01,17.94</td>\n",
       "    </tr>\n",
       "    <tr>\n",
       "      <th>389</th>\n",
       "      <td>Tura</td>\n",
       "      <td>0</td>\n",
       "      <td>IN</td>\n",
       "      <td>1588959364</td>\n",
       "      <td>40</td>\n",
       "      <td>25.52</td>\n",
       "      <td>90.22</td>\n",
       "      <td>23.88</td>\n",
       "      <td>1.73</td>\n",
       "      <td>25.52,90.22</td>\n",
       "    </tr>\n",
       "    <tr>\n",
       "      <th>455</th>\n",
       "      <td>Awjilah</td>\n",
       "      <td>0</td>\n",
       "      <td>LY</td>\n",
       "      <td>1588959386</td>\n",
       "      <td>18</td>\n",
       "      <td>29.11</td>\n",
       "      <td>21.29</td>\n",
       "      <td>25.28</td>\n",
       "      <td>4.87</td>\n",
       "      <td>29.11,21.29</td>\n",
       "    </tr>\n",
       "    <tr>\n",
       "      <th>550</th>\n",
       "      <td>Jardim</td>\n",
       "      <td>0</td>\n",
       "      <td>BR</td>\n",
       "      <td>1588959412</td>\n",
       "      <td>34</td>\n",
       "      <td>-21.48</td>\n",
       "      <td>-56.14</td>\n",
       "      <td>25.24</td>\n",
       "      <td>2.26</td>\n",
       "      <td>-21.48,-56.14</td>\n",
       "    </tr>\n",
       "  </tbody>\n",
       "</table>\n",
       "</div>"
      ],
      "text/plain": [
       "               City  Cloudiness (%) Country        Date  Humidity (%)  \\\n",
       "174  Guerrero Negro               0      MX  1588959302            39   \n",
       "385        Saldanha               0      ZA  1588959363            44   \n",
       "389            Tura               0      IN  1588959364            40   \n",
       "455         Awjilah               0      LY  1588959386            18   \n",
       "550          Jardim               0      BR  1588959412            34   \n",
       "\n",
       "     Latitude  Longitude  Max Temp (C°)  Wind Speed (kmph)       Location  \n",
       "174     27.98    -114.06          25.64               2.00  27.98,-114.06  \n",
       "385    -33.01      17.94          24.00               2.60   -33.01,17.94  \n",
       "389     25.52      90.22          23.88               1.73    25.52,90.22  \n",
       "455     29.11      21.29          25.28               4.87    29.11,21.29  \n",
       "550    -21.48     -56.14          25.24               2.26  -21.48,-56.14  "
      ]
     },
     "execution_count": 5,
     "metadata": {},
     "output_type": "execute_result"
    }
   ],
   "source": [
    "vacation_df = weather_data_df.loc[weather_data_df[\"Cloudiness (%)\"] == 0]\n",
    "vacation_df = vacation_df.loc[vacation_df[\"Wind Speed (kmph)\"] < 16]\n",
    "vacation_df = vacation_df.loc[vacation_df[\"Max Temp (C°)\"] < 26]\n",
    "vacation_df = vacation_df.loc[vacation_df[\"Max Temp (C°)\"] > 21]\n",
    "vacation_df = vacation_df.loc[vacation_df[\"Humidity (%)\"] < 50]\n",
    "vacation_df.dropna(inplace=True)\n",
    "vacation_df[\"Location\"] = vacation_df[['Latitude','Longitude']].apply(\n",
    "    lambda x : '{},{}'.format(x[0],x[1]), axis=1)\n",
    "vacation_df"
   ]
  },
  {
   "cell_type": "markdown",
   "metadata": {},
   "source": [
    "### Hotel Map\n",
    "* Store into variable named `hotel_df`.\n",
    "* Add a \"Hotel Name\" column to the DataFrame.\n",
    "* Set parameters to search for hotels with 5000 meters.\n",
    "* Hit the Google Places API for each city's coordinates.\n",
    "* Store the first Hotel result into the DataFrame.\n",
    "* Plot markers on top of the heatmap."
   ]
  },
  {
   "cell_type": "code",
   "execution_count": 6,
   "metadata": {},
   "outputs": [],
   "source": [
    "column_names = [\"Hotel Name\", \"Lat\", \"Lng\", \"City\"]\n",
    "\n",
    "hotel_df = pd.DataFrame(columns = column_names)"
   ]
  },
  {
   "cell_type": "code",
   "execution_count": 7,
   "metadata": {},
   "outputs": [
    {
     "name": "stdout",
     "output_type": "stream",
     "text": [
      "Retrieving Results for hotels located in Guerrero Negro.\n",
      "Closest hotel is Casa Laguna, Bed & Breakfast.\n",
      "------------\n",
      "Retrieving Results for hotels located in Saldanha.\n",
      "Closest hotel is Hoedjiesbaai Hotel.\n",
      "------------\n",
      "Retrieving Results for hotels located in Tura.\n",
      "Closest hotel is Hotel RIKMAN Continental.\n",
      "------------\n",
      "Retrieving Results for hotels located in Awjilah.\n",
      "Closest hotel is Awjilah Tourist Hotel.\n",
      "------------\n",
      "Retrieving Results for hotels located in Jardim.\n",
      "Closest hotel is Hotel Meridian.\n",
      "------------\n"
     ]
    }
   ],
   "source": [
    "base_url = \"https://maps.googleapis.com/maps/api/place/nearbysearch/json\"\n",
    "params = {\n",
    "    \"rankby\": \"distance\",\n",
    "    \"key\": g_key,\n",
    "    \"keyword\" : \"hotel\",\n",
    "    \"location\" : \"25.52,90.22\",\n",
    "}\n",
    "\n",
    "response = requests.get(base_url, params=params).json()\n",
    "response[\"results\"][0] [\"geometry\"][\"location\"][\"lat\"]   \n",
    "\n",
    "\n",
    "for index, row in vacation_df.iterrows():\n",
    "    \n",
    "    city_location = row[\"Location\"]\n",
    "    City = row[\"City\"]\n",
    "    Country = row[\"Country\"]\n",
    "    \n",
    "    params[\"location\"] = city_location\n",
    "    \n",
    "    print(f\"Retrieving Results for hotels located in {City}.\")\n",
    "    response = requests.get(base_url, params=params).json()\n",
    "    \n",
    "    results = response['results']\n",
    "    \n",
    "    try:\n",
    "        print(f\"Closest hotel is {results[0]['name']}.\")\n",
    "        \n",
    "        hotel_df.loc[index, \"Hotel Name\"] = (results[0]['name'])\n",
    "        hotel_df.loc[index, \"City\"] = City\n",
    "        hotel_df.loc[index, \"Hotel Name\"] = (results[0]['name'])\n",
    "        hotel_df.loc[index, \"City\"] = City\n",
    "        hotel_df.loc[index, \"Lat\"] = (results[0][\"geometry\"][\"location\"][\"lat\"])\n",
    "        hotel_df.loc[index, \"Lng\"] = (results[0][\"geometry\"][\"location\"][\"lng\"])\n",
    "        hotel_df.loc[index, \"Country\"] = Country\n",
    "        \n",
    "\n",
    "    except (KeyError, IndexError):\n",
    "        print(\"Missing field/result... skipping.\")\n",
    "        \n",
    "    print(\"------------\")\n",
    "    "
   ]
  },
  {
   "cell_type": "code",
   "execution_count": 8,
   "metadata": {
    "scrolled": true
   },
   "outputs": [
    {
     "data": {
      "text/html": [
       "<div>\n",
       "<style scoped>\n",
       "    .dataframe tbody tr th:only-of-type {\n",
       "        vertical-align: middle;\n",
       "    }\n",
       "\n",
       "    .dataframe tbody tr th {\n",
       "        vertical-align: top;\n",
       "    }\n",
       "\n",
       "    .dataframe thead th {\n",
       "        text-align: right;\n",
       "    }\n",
       "</style>\n",
       "<table border=\"1\" class=\"dataframe\">\n",
       "  <thead>\n",
       "    <tr style=\"text-align: right;\">\n",
       "      <th></th>\n",
       "      <th>Hotel Name</th>\n",
       "      <th>Lat</th>\n",
       "      <th>Lng</th>\n",
       "      <th>City</th>\n",
       "      <th>Country</th>\n",
       "    </tr>\n",
       "  </thead>\n",
       "  <tbody>\n",
       "    <tr>\n",
       "      <th>174</th>\n",
       "      <td>Casa Laguna, Bed &amp; Breakfast</td>\n",
       "      <td>27.9593</td>\n",
       "      <td>-114.055</td>\n",
       "      <td>Guerrero Negro</td>\n",
       "      <td>MX</td>\n",
       "    </tr>\n",
       "    <tr>\n",
       "      <th>385</th>\n",
       "      <td>Hoedjiesbaai Hotel</td>\n",
       "      <td>-33.0076</td>\n",
       "      <td>17.9459</td>\n",
       "      <td>Saldanha</td>\n",
       "      <td>ZA</td>\n",
       "    </tr>\n",
       "    <tr>\n",
       "      <th>389</th>\n",
       "      <td>Hotel RIKMAN Continental</td>\n",
       "      <td>25.5127</td>\n",
       "      <td>90.2176</td>\n",
       "      <td>Tura</td>\n",
       "      <td>IN</td>\n",
       "    </tr>\n",
       "    <tr>\n",
       "      <th>455</th>\n",
       "      <td>Awjilah Tourist Hotel</td>\n",
       "      <td>29.1682</td>\n",
       "      <td>21.2925</td>\n",
       "      <td>Awjilah</td>\n",
       "      <td>LY</td>\n",
       "    </tr>\n",
       "    <tr>\n",
       "      <th>550</th>\n",
       "      <td>Hotel Meridian</td>\n",
       "      <td>-21.4817</td>\n",
       "      <td>-56.1393</td>\n",
       "      <td>Jardim</td>\n",
       "      <td>BR</td>\n",
       "    </tr>\n",
       "  </tbody>\n",
       "</table>\n",
       "</div>"
      ],
      "text/plain": [
       "                       Hotel Name      Lat      Lng            City Country\n",
       "174  Casa Laguna, Bed & Breakfast  27.9593 -114.055  Guerrero Negro      MX\n",
       "385            Hoedjiesbaai Hotel -33.0076  17.9459        Saldanha      ZA\n",
       "389      Hotel RIKMAN Continental  25.5127  90.2176            Tura      IN\n",
       "455         Awjilah Tourist Hotel  29.1682  21.2925         Awjilah      LY\n",
       "550                Hotel Meridian -21.4817 -56.1393          Jardim      BR"
      ]
     },
     "execution_count": 8,
     "metadata": {},
     "output_type": "execute_result"
    }
   ],
   "source": [
    "hotel_df.reset_index(drop=True)\n",
    "hotel_locations = hotel_df[[\"Lat\", \"Lng\"]]\n",
    "hotel_df"
   ]
  },
  {
   "cell_type": "code",
   "execution_count": 9,
   "metadata": {},
   "outputs": [],
   "source": [
    "# NOTE: Do not change any of the code in this cell\n",
    "\n",
    "# Using the template add the hotel marks to the heatmap\n",
    "info_box_template = \"\"\"\n",
    "<dl>\n",
    "<dt>Name</dt><dd>{Hotel Name}</dd>\n",
    "<dt>City</dt><dd>{City}</dd>\n",
    "<dt>Country</dt><dd>{Country}</dd>\n",
    "</dl>\n",
    "\"\"\"\n",
    "# Store the DataFrame Row\n",
    "# NOTE: be sure to update with your DataFrame name\n",
    "hotel_info = [info_box_template.format(**row) for index, row in hotel_df.iterrows()]\n",
    "hotel_locations = hotel_df[[\"Lat\", \"Lng\"]]\n",
    "marker_layer = gmaps.marker_layer(hotel_locations, info_box_content=hotel_info)"
   ]
  },
  {
   "cell_type": "code",
   "execution_count": 10,
   "metadata": {},
   "outputs": [
    {
     "data": {
      "application/vnd.jupyter.widget-view+json": {
       "model_id": "937d1a0cd4c2460e84c8e3679f1084f0",
       "version_major": 2,
       "version_minor": 0
      },
      "text/plain": [
       "Figure(layout=FigureLayout(border='1px solid black', height='300px', margin='0 auto 0 auto', padding='1px', wi…"
      ]
     },
     "metadata": {},
     "output_type": "display_data"
    }
   ],
   "source": [
    "figure_layout = {\n",
    "    'width': '400px',\n",
    "    'height': '300px',\n",
    "    'border': '1px solid black',\n",
    "    'padding': '1px',\n",
    "    'margin': '0 auto 0 auto'\n",
    "}\n",
    "fig = gmaps.figure(layout=figure_layout)\n",
    "\n",
    "\n",
    "markers = gmaps.marker_layer(hotel_locations)\n",
    "\n",
    "fig.add_layer(markers)\n",
    "fig.add_layer(marker_layer)\n",
    "fig"
   ]
  },
  {
   "cell_type": "code",
   "execution_count": 11,
   "metadata": {},
   "outputs": [
    {
     "data": {
      "application/vnd.jupyter.widget-view+json": {
       "model_id": "937d1a0cd4c2460e84c8e3679f1084f0",
       "version_major": 2,
       "version_minor": 0
      },
      "text/plain": [
       "Figure(layout=FigureLayout(border='1px solid black', height='300px', margin='0 auto 0 auto', padding='1px', wi…"
      ]
     },
     "metadata": {},
     "output_type": "display_data"
    }
   ],
   "source": [
    "# Add marker layer ontop of heat map\n",
    "fig.add_layer(heat_layer)\n",
    "fig.add_layer(markers)\n",
    "fig.add_layer(marker_layer)\n",
    "fig\n",
    "# Display Map"
   ]
  }
 ],
 "metadata": {
  "kernelspec": {
   "display_name": "Python 3",
   "language": "python",
   "name": "python3"
  },
  "language_info": {
   "codemirror_mode": {
    "name": "ipython",
    "version": 3
   },
   "file_extension": ".py",
   "mimetype": "text/x-python",
   "name": "python",
   "nbconvert_exporter": "python",
   "pygments_lexer": "ipython3",
   "version": "3.7.3"
  },
  "latex_envs": {
   "LaTeX_envs_menu_present": true,
   "autoclose": false,
   "autocomplete": true,
   "bibliofile": "biblio.bib",
   "cite_by": "apalike",
   "current_citInitial": 1,
   "eqLabelWithNumbers": true,
   "eqNumInitial": 1,
   "hotkeys": {
    "equation": "Ctrl-E",
    "itemize": "Ctrl-I"
   },
   "labels_anchors": false,
   "latex_user_defs": false,
   "report_style_numbering": false,
   "user_envs_cfg": false
  }
 },
 "nbformat": 4,
 "nbformat_minor": 2
}
